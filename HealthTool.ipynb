{
  "nbformat": 4,
  "nbformat_minor": 0,
  "metadata": {
    "colab": {
      "provenance": [],
      "authorship_tag": "ABX9TyNK1yq/D7MetSMlulILIxm/"
    },
    "kernelspec": {
      "name": "python3",
      "display_name": "Python 3"
    },
    "language_info": {
      "name": "python"
    }
  },
  "cells": [
    {
      "cell_type": "code",
      "source": [
        "#Instalando a biblioteca do Google Gemin\n",
        "!pip install -q -U google-generativeai\n",
        "\n",
        "#Configurando conexão com o Googe Gemini\n",
        "import google.generativeai as gemini\n",
        "\n",
        "#Obtendo dados do usuário\n",
        "from google.colab import userdata\n",
        "\n",
        "#Armazenando a chave (API_KEY) em uma variável do colab\n",
        "api_key = userdata.get('SECRET_KEY')\n",
        "\n",
        "#Atribuindo a chave às configurações do gemini\n",
        "gemini.configure(api_key=api_key)\n",
        "\n",
        "#Parametrizando as configurações de geração e de segurança do modelo\n",
        "gm_config = {\n",
        "\t\"candidate_count\": 1,\n",
        "\t\"temperature\": 0.55,\n",
        "\n",
        "}\n",
        "\n",
        "sm_config = {\n",
        "\t\"HARASSMENT\": \"BLOCK_NONE\",\n",
        "\t\"HATE\": \"BLOCK_NONE\",\n",
        "\t\"SEXUAL\": \"BLOCK_NONE\",\n",
        "\t\"DANGEROUS\": \"BLOCK_NONE\",\n",
        "}\n",
        "\n",
        "#Listando modelos disponíveis\n",
        "for m in gemini.list_models():\n",
        "\tif 'generateContent' in m.supported_generation_methods:\n",
        "\t\tprint(m.name)\n",
        "\n",
        "#Definindo modelo para ser utilizado no Chat-bot com o gemini\n",
        "model = gemini.GenerativeModel(model_name=\"gemini-1.0-pro\", generation_config=gm_config, safety_settings=sm_config)\n",
        "\n",
        "#Criando variável para armazenar o histórico das conversas\n",
        "chat = model.start_chat(history=[])\n",
        "\n",
        "#Iniciando o chat\n",
        "prompt = input(\"Digite seu nome: \\n\")\n",
        "nome = prompt\n",
        "print(\"Olá, \", nome, \"Em que posso lhe ajudar?\")\n",
        "prompt = input(\"Faça sua pergunta: \\n\")\n",
        "while prompt != \"sair\":\n",
        "  response = chat.send_message(prompt)\n",
        "  print(\"Resposta:\",response.text,\"\\n\")\n",
        "  prompt = input(\"Deseja continuar? Digite sua nova pergunta, ou sair para encerrar: \\n\")\n",
        "\n",
        "print(\"Obrigado por conversar comigo. Segue abaixo o histórico do que conversamos: \\n\")\n",
        "#Melhorando a visualização\n",
        "#Código disponível em https://ai.google/dev/tutorials/python/quickstart#import_packages\n",
        "import textwrap\n",
        "from IPython.display import display\n",
        "from IPython.display import Markdown\n",
        "\n",
        "def to_markdown(text):\n",
        "  text = text.replace('•', '  *')\n",
        "  text = text.replace('user', nome)\n",
        "  text = text.replace('model', 'Bot')\n",
        "  return Markdown(textwrap.indent(text, '> ', predicate=lambda _: True))\n",
        "\n",
        "#Imprimindo o histórico:\n",
        "for message in chat.history:\n",
        "  display(to_markdown(f'**{message.role}**: {message.parts[0].text}'))\n",
        "  print('-'*100)"
      ],
      "metadata": {
        "id": "-pzeh_SWjUb3"
      },
      "execution_count": null,
      "outputs": []
    }
  ]
}